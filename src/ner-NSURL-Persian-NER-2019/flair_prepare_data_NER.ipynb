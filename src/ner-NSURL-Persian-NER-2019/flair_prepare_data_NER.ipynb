{
 "cells": [
  {
   "cell_type": "code",
   "execution_count": null,
   "metadata": {
    "colab": {
     "base_uri": "https://localhost:8080/"
    },
    "id": "53X_wrjKQx0v",
    "outputId": "4b31d143-7c8f-47a9-b396-6615689d4443",
    "pycharm": {
     "name": "#%%\n"
    }
   },
   "outputs": [
    {
     "output_type": "stream",
     "name": "stdout",
     "text": [
      "Mounted at /content/gdrive\n"
     ]
    }
   ],
   "source": [
    "from google.colab import drive\n",
    "drive.mount(\"/content/gdrive\", force_remount=True)\n"
   ]
  },
  {
   "cell_type": "code",
   "execution_count": null,
   "metadata": {
    "id": "hPbq7gYCnhf_",
    "pycharm": {
     "name": "#%%\n"
    }
   },
   "outputs": [],
   "source": [
    "%%capture\n",
    "!pip3 install flair"
   ]
  },
  {
   "cell_type": "markdown",
   "metadata": {
    "id": "k6OVn6vzxrK1",
    "pycharm": {
     "name": "#%% md\n"
    }
   },
   "source": [
    "## **NER**"
   ]
  },
  {
   "cell_type": "code",
   "execution_count": null,
   "metadata": {
    "colab": {
     "base_uri": "https://localhost:8080/"
    },
    "id": "zMM-tPmDD2Y2",
    "outputId": "9b50b8b4-958e-49d8-f350-88b48f89a646",
    "pycharm": {
     "name": "#%%\n"
    }
   },
   "outputs": [
    {
     "output_type": "stream",
     "name": "stdout",
     "text": [
      "Cloning into 'NSURL-Persian-NER'...\n",
      "remote: Enumerating objects: 33, done.\u001B[K\n",
      "remote: Counting objects: 100% (17/17), done.\u001B[K\n",
      "remote: Compressing objects: 100% (17/17), done.\u001B[K\n",
      "remote: Total 33 (delta 7), reused 0 (delta 0), pack-reused 16\u001B[K\n",
      "Unpacking objects: 100% (33/33), done.\n"
     ]
    }
   ],
   "source": [
    "!git clone https://github.com/nasrin-taghizadeh/NSURL-Persian-NER\n",
    "data_folder = \"/content/gdrive/MyDrive/project/data/ner/\""
   ]
  },
  {
   "cell_type": "code",
   "execution_count": null,
   "metadata": {
    "id": "aYN3NSLCjr5t",
    "pycharm": {
     "name": "#%%\n"
    }
   },
   "outputs": [],
   "source": [
    "%%capture\n",
    "!unrar x /content/NSURL-Persian-NER/Farsi-NER-TrainingData.rar \n",
    "!rm -rf /content/test-label\n",
    "!rm -rf /content/test\n",
    "!unzip /content/NSURL-Persian-NER/Farsi-NER-TestData-tokens.zip -d test\n",
    "!unzip /content/NSURL-Persian-NER/Farsi-NER-TestData-gold.zip -d test-label"
   ]
  },
  {
   "cell_type": "code",
   "execution_count": null,
   "metadata": {
    "id": "7QZ62nlmEJnY",
    "colab": {
     "base_uri": "https://localhost:8080/"
    },
    "outputId": "a4d834c4-3486-4fce-d8f6-e33b20b78e5c",
    "pycharm": {
     "name": "#%%\n"
    }
   },
   "outputs": [
    {
     "output_type": "stream",
     "name": "stdout",
     "text": [
      "912426\n"
     ]
    }
   ],
   "source": [
    "lines = []\n",
    "import os\n",
    "for filename in os.listdir(\"/content/NER/300K\"):\n",
    "   with open(os.path.join(\"/content/NER/300K\", filename), 'r') as f:\n",
    "       lines.extend(f.readlines())\n",
    "for filename in os.listdir(\"/content/NER/600K\"):\n",
    "   with open(os.path.join(\"/content/NER/600K\", filename), 'r') as f:\n",
    "       lines.extend(f.readlines())\n",
    "print(len(lines))"
   ]
  },
  {
   "cell_type": "code",
   "execution_count": null,
   "metadata": {
    "id": "hPrx88TxtZ0w",
    "colab": {
     "base_uri": "https://localhost:8080/"
    },
    "outputId": "8ee87db4-566f-4f34-af10-e15e34ef5296",
    "pycharm": {
     "name": "#%%\n"
    }
   },
   "outputs": [
    {
     "output_type": "stream",
     "name": "stdout",
     "text": [
      "148676\n",
      "['،\\tO\\n', 'خنداندن\\tO\\n', 'مردم\\tO\\n', 'ایران\\tB-LOC\\n', 'به\\tO\\n', 'همین\\tO\\n', 'دلیل\\tO\\n', 'خیلی\\tO\\n', 'سخت\\tO\\n', 'شده\\tO\\n', 'است\\tO\\n', 'و\\tO\\n', 'شاید\\tO\\n', 'یکی\\tO\\n', 'از\\tO\\n', 'ریشه های\\tO\\n', 'کمتر\\tO\\n', 'توجه\\tO\\n', 'شده\\tO\\n', 'در\\tO\\n', 'کاهش\\tO\\n', 'سطح\\tO\\n', 'شاد\\tO\\n', 'بودن\\tO\\n', 'عمومی\\tO\\n', 'همین\\tO\\n', 'مسیله\\tO\\n', 'فقر\\tO\\n', 'محتوای\\tO\\n', 'باب\\tO\\n', 'میل\\tO\\n', 'ذهن\\tO\\n', 'مخاطب\\tO\\n', 'باشد\\tO\\n', '.\\tO\\n', '\\t\\n', 'صابر\\tB-PER\\n', 'ترحمی\\tI-PER\\n', 'پژوهشگر\\tO\\n', 'مسایل\\tO\\n', 'اجتماعی\\tO\\n', 'می گوید\\tO\\n', ':\\tO\\n', 'در\\tB-DAT\\n', '2\\tI-DAT\\n', 'دهه\\tI-DAT\\n', 'اخیر\\tI-DAT\\n', 'تحقیقات\\tO\\n', 'مستندی\\tO\\n', 'از\\tO\\n', 'بررسی های\\tO\\n', 'دانشگاهی\\tO\\n', 'در\\tO\\n', 'خصوص\\tO\\n', 'تلاش\\tO\\n', 'ضد\\tO\\n', 'فرهنگی\\tO\\n', 'غرب\\tO\\n', 'برای\\tO\\n', 'توهین\\tO\\n', 'به\\tO\\n', 'اقوام\\tO\\n', 'مختلف\\tO\\n', 'ایرانی\\tO\\n', 'از\\tO\\n', 'طریق\\tO\\n', 'به\\tO\\n', 'سخره\\tO\\n', 'گرفتن\\tO\\n', 'برخی\\tO\\n', 'حرکات\\tO\\n', 'و\\tO\\n', 'رفتارها\\tO\\n', '،\\tO\\n', 'حرف ها\\tO\\n', 'و\\tO\\n', 'حتی\\tO\\n', 'گویش های\\tO\\n', 'منتسب\\tO\\n', 'به\\tO\\n', 'اقوام\\tO\\n', 'لر\\tO\\n', '،\\tO\\n', 'ترک\\tO\\n', '،\\tO\\n', 'تهرانی\\tO\\n', '،\\tO\\n', 'رشتی\\tO\\n', '،\\tO\\n', 'مشهدی\\tO\\n', 'و\\tO\\n', 'اصفهانی\\tO\\n', 'و\\tO\\n', 'این\\tO\\n', 'اواخر\\tO\\n', 'شیرازی\\tO\\n', 'بر\\tO\\n', 'سر\\tO\\n', 'زبان ها\\tO\\n', 'افتاد\\tO\\n']\n"
     ]
    }
   ],
   "source": [
    "all_test = []\n",
    "for filename in os.listdir(\"/content/test\"):\n",
    "    with open(os.path.join(\"/content/test\", filename), 'r') as f1:\n",
    "        with open(os.path.join(\"/content/test-label\", filename.replace(\"txt\",\"gold\")), 'r') as f2:\n",
    "            lines1 = f1.readlines()\n",
    "            lines2 = f2.readlines()\n",
    "            for i in range(len(lines1)):\n",
    "                all_test.append(lines1[i].replace(\"\\n\",\"\") + \"\\t\" + lines2[i].replace(\"\\n\",\"\") + \"\\n\")\n",
    "print(len(all_test))\n",
    "print(all_test[1000:1100])"
   ]
  },
  {
   "cell_type": "code",
   "execution_count": null,
   "metadata": {
    "colab": {
     "base_uri": "https://localhost:8080/"
    },
    "id": "_MOUBvHpE7Gv",
    "outputId": "f73f9194-7c3b-4dd7-d127-b1780c12f7ff",
    "pycharm": {
     "name": "#%%\n"
    }
   },
   "outputs": [
    {
     "output_type": "stream",
     "name": "stdout",
     "text": [
      "27130\n",
      "{'O\\n': 788592, 'B-PER\\n': 12557, 'I-PER\\n': 8564, 'B-ORG\\n': 14285, 'I-ORG\\n': 20489, 'B-TIM\\n': 572, 'I-TIM\\n': 1214, 'B-LOC\\n': 15412, 'B-DAT\\n': 4474, 'I-LOC\\n': 5690, 'B-PCT\\n': 997, 'I-PCT\\n': 1389, 'I-DAT\\n': 5939, 'B-MON\\n': 1295, 'I-MON\\n': 3431}\n"
     ]
    }
   ],
   "source": [
    "number_of_sen = 0\n",
    "# number of sentences is 27130\n",
    "SENTENCE_NUMBERS = 27130\n",
    "train = []\n",
    "valid = []\n",
    "label_keys = {}\n",
    "i = 0\n",
    "for line in lines:\n",
    "    if len(line.split(\" \")) > 1 :\n",
    "        line = line.replace(\" \", \"\")\n",
    "    if len(line.split(\"\\t\")) > 1 and \"ر\" in line.split(\"\\t\")[1]:\n",
    "        # print(line)\n",
    "        continue\n",
    "    if line == \"\\n\":\n",
    "        number_of_sen += 1\n",
    "    elif len(line.split(\"\\t\")) <= 1:\n",
    "        continue\n",
    "    else:\n",
    "        part1 = line.split('\\t')[0]\n",
    "        part2 = line.split('\\t')[1].replace('_' , '-')\n",
    "        if len(part2)>6:\n",
    "            part2 = part2[0:5] + '\\n'\n",
    "        if part2 == \"OB-OR\\n\":\n",
    "            part2 = \"B-ORG\\n\"\n",
    "        line = part1 + \"\\t\" + part2\n",
    "        if not line.split('\\t')[1] in label_keys.keys():\n",
    "            label_keys[line.split('\\t')[1]] = 0\n",
    "        label_keys[line.split('\\t')[1]] += 1\n",
    "    if number_of_sen < (SENTENCE_NUMBERS * 85) / 100:\n",
    "        train.append(line)\n",
    "    elif number_of_sen >= (SENTENCE_NUMBERS * 85) / 100:\n",
    "        valid.append(line)\n",
    "    i+=1\n",
    "print(number_of_sen)\n",
    "print(label_keys)"
   ]
  },
  {
   "cell_type": "code",
   "execution_count": null,
   "metadata": {
    "colab": {
     "base_uri": "https://localhost:8080/"
    },
    "id": "jvpYJWdb0l0b",
    "outputId": "96161646-ff9c-437c-bfec-da7be5a9b1a4",
    "pycharm": {
     "name": "#%%\n"
    }
   },
   "outputs": [
    {
     "output_type": "stream",
     "name": "stdout",
     "text": [
      "['گزارش\\tO\\n', 'ایسنا\\tB-ORG\\n', '،\\tO\\n', 'در\\tO\\n', 'دوره\\tO\\n', 'گارانتی\\tO\\n', '(\\tO\\n', 'تضمین\\tO\\n', ')\\tO\\n']\n",
      "{'O\\n': 121076, 'B-ORG\\n': 3165, '\\n': 4150, 'B-LOC\\n': 4083, 'I-ORG\\n': 4919, 'B-PER\\n': 2741, 'I-PER\\n': 2138, 'B-TIM\\n': 166, 'I-TIM\\n': 234, 'I-LOC\\n': 1747, 'B-DAT\\n': 1150, 'I-DAT\\n': 1612, 'B-PCT\\n': 156, 'I-PCT\\n': 176, 'B-MON\\n': 357, 'I-MON\\n': 806}\n"
     ]
    }
   ],
   "source": [
    "test = []\n",
    "label_keys = {}\n",
    "for line in all_test:\n",
    "    if len(line.split(\" \")) > 1 :\n",
    "        line = line.replace(\" \", \"\")\n",
    "    if len(line.split(\"\\t\")) > 1 and \"ر\" in line.split(\"\\t\")[1]:\n",
    "        print(line)\n",
    "        continue\n",
    "    if line == \"\\n\":\n",
    "        number_of_sen += 1\n",
    "    elif len(line.split(\"\\t\")) <= 1:\n",
    "        print(line)\n",
    "        continue\n",
    "    else:\n",
    "        part1 = line.split('\\t')[0]\n",
    "        part2 = line.split('\\t')[1].replace('_' , '-')\n",
    "        if len(part2)>6:\n",
    "            part2 = part2[0:5] + '\\n'\n",
    "        if part2 == \"OB-OR\\n\":\n",
    "            part2 = \"B-ORG\\n\"\n",
    "        line = part1 + \"\\t\" + part2\n",
    "        if not line.split('\\t')[1] in label_keys.keys():\n",
    "            label_keys[line.split('\\t')[1]] = 0\n",
    "        label_keys[line.split('\\t')[1]] += 1\n",
    "    test.append(line)\n",
    "number_of_sen\n",
    "print(test[1:10])\n",
    "print(label_keys)"
   ]
  },
  {
   "cell_type": "code",
   "execution_count": null,
   "metadata": {
    "id": "GFjPo534lhwM",
    "pycharm": {
     "name": "#%%\n"
    }
   },
   "outputs": [],
   "source": [
    "with open(data_folder + 'train.txt', 'w', encoding=\"utf-8\") as f:\n",
    "    for item in train:\n",
    "        f.write(item)\n",
    "with open(data_folder + 'valid.txt', 'w', encoding=\"utf-8\") as f:\n",
    "    for item in valid:\n",
    "        f.write(item)\n",
    "with open(data_folder + 'test.txt', 'w', encoding=\"utf-8\") as f:\n",
    "    for item in test:\n",
    "        f.write(item)"
   ]
  },
  {
   "cell_type": "code",
   "execution_count": null,
   "metadata": {
    "colab": {
     "base_uri": "https://localhost:8080/"
    },
    "id": "nRjvK6HISpkJ",
    "outputId": "d0439d54-6e3b-47ca-e8ab-aa3c15d08419",
    "pycharm": {
     "name": "#%%\n"
    }
   },
   "outputs": [
    {
     "output_type": "stream",
     "name": "stdout",
     "text": [
      "769242   148676   142788  \n"
     ]
    }
   ],
   "source": [
    "print(len(train) , \" \",len(test) , \" \",len(valid) , \" \")"
   ]
  },
  {
   "cell_type": "code",
   "execution_count": null,
   "metadata": {
    "colab": {
     "base_uri": "https://localhost:8080/"
    },
    "id": "WlkX1dKhSUUX",
    "outputId": "8ed8cc7b-17a1-4972-dc9c-59c33b639138",
    "pycharm": {
     "name": "#%%\n"
    }
   },
   "outputs": [
    {
     "output_type": "stream",
     "name": "stdout",
     "text": [
      "2022-03-27 02:34:11,927 Reading data from /content/gdrive/MyDrive/project/data/ner\n",
      "2022-03-27 02:34:11,929 Train: /content/gdrive/MyDrive/project/data/ner/train.txt\n",
      "2022-03-27 02:34:11,934 Dev: /content/gdrive/MyDrive/project/data/ner/valid.txt\n",
      "2022-03-27 02:34:11,937 Test: /content/gdrive/MyDrive/project/data/ner/test.txt\n"
     ]
    }
   ],
   "source": [
    "from flair.data import Corpus\n",
    "from flair.datasets import ColumnCorpus\n",
    "\n",
    "# define columns\n",
    "columns = {0: 'text', 1: 'ner'}\n",
    "\n",
    "corpus: Corpus = ColumnCorpus(data_folder, columns,\n",
    "                              train_file='train.txt',\n",
    "                              test_file='test.txt',\n",
    "                              dev_file='valid.txt').downsample(1)"
   ]
  },
  {
   "cell_type": "code",
   "source": [
    "print(corpus.test[301])"
   ],
   "metadata": {
    "colab": {
     "base_uri": "https://localhost:8080/"
    },
    "id": "iDRdzUigOZfb",
    "outputId": "44682983-7c07-4357-d80f-b40c7e62a5cc",
    "pycharm": {
     "name": "#%%\n"
    }
   },
   "execution_count": null,
   "outputs": [
    {
     "output_type": "stream",
     "name": "stdout",
     "text": [
      "Sentence: \"او در سال 1362 و با هدف پایان دادن جنگ ایران و عراق به تهران سفر کرد و با آیت الله خامنهای رییسجمهور و علی اکبر ولایتی وزیر خارجه وقت دیدار و گفتگو کرد .\"   [− Tokens: 35  − Token-Labels: \"او در سال <B-DAT> 1362 <I-DAT> و با هدف پایان دادن جنگ ایران <B-LOC> و عراق <B-LOC> به تهران <B-LOC> سفر کرد و با آیت الله خامنهای <B-PER> رییسجمهور و علی <B-PER> اکبر <I-PER> ولایتی <I-PER> وزیر خارجه <B-ORG> وقت دیدار و گفتگو کرد .\"]\n"
     ]
    }
   ]
  },
  {
   "cell_type": "code",
   "execution_count": null,
   "metadata": {
    "colab": {
     "base_uri": "https://localhost:8080/"
    },
    "id": "OqedMqo0ljlL",
    "outputId": "4fc81e73-56ad-43a4-f1f3-4f1bc0cfec99",
    "pycharm": {
     "name": "#%%\n"
    }
   },
   "outputs": [
    {
     "output_type": "stream",
     "name": "stdout",
     "text": [
      "23060\n",
      "4150\n",
      "4070\n"
     ]
    }
   ],
   "source": [
    "print(len(corpus.train))\n",
    "print(len(corpus.test))\n",
    "print(len(corpus.dev))"
   ]
  },
  {
   "cell_type": "code",
   "execution_count": null,
   "metadata": {
    "colab": {
     "base_uri": "https://localhost:8080/"
    },
    "id": "M5fIEq6L86SD",
    "outputId": "d0e31293-643c-43cb-86b9-2ca53f3da8e2",
    "pycharm": {
     "name": "#%%\n"
    }
   },
   "outputs": [
    {
     "output_type": "stream",
     "name": "stdout",
     "text": [
      "2022-03-21 22:01:37,831 Computing label dictionary. Progress:\n"
     ]
    },
    {
     "output_type": "stream",
     "name": "stderr",
     "text": [
      "100%|██████████| 23060/23060 [00:02<00:00, 7908.09it/s]"
     ]
    },
    {
     "output_type": "stream",
     "name": "stdout",
     "text": [
      "2022-03-21 22:01:40,832 Corpus contains the labels: ner (#746175)\n"
     ]
    },
    {
     "output_type": "stream",
     "name": "stderr",
     "text": [
      "\n"
     ]
    },
    {
     "output_type": "stream",
     "name": "stdout",
     "text": [
      "2022-03-21 22:01:40,838 Created (for label 'ner') Dictionary with 16 tags: <unk>, O, B-ORG, I-ORG, B-LOC, I-LOC, B-PER, B-DAT, I-PER, B-TIM, I-DAT, I-TIM, B-MON, I-MON, B-PCT, I-PCT\n",
      "Dictionary with 16 tags: <unk>, O, B-ORG, I-ORG, B-LOC, I-LOC, B-PER, B-DAT, I-PER, B-TIM, I-DAT, I-TIM, B-MON, I-MON, B-PCT, I-PCT\n"
     ]
    }
   ],
   "source": [
    "from flair.embeddings import WordEmbeddings, FlairEmbeddings, StackedEmbeddings\n",
    "from flair.models import SequenceTagger\n",
    "from flair.trainers import ModelTrainer\n",
    "\n",
    "\n",
    "# 2. what label do we want to predict?\n",
    "label_type = 'ner'\n",
    "\n",
    "# 3. make the label dictionary from the corpus\n",
    "label_dict = corpus.make_label_dictionary(label_type=label_type)\n",
    "print(label_dict)"
   ]
  },
  {
   "cell_type": "code",
   "source": [
    "label_dict.remove_item('در')\n",
    "print(label_dict.get_items())"
   ],
   "metadata": {
    "colab": {
     "base_uri": "https://localhost:8080/"
    },
    "id": "6l_u4uYzp4pZ",
    "outputId": "d720ee28-6990-488a-dc36-8dc3ad05f866",
    "pycharm": {
     "name": "#%%\n"
    }
   },
   "execution_count": null,
   "outputs": [
    {
     "output_type": "stream",
     "name": "stdout",
     "text": [
      "['<unk>', 'O', 'B-ORG', 'I-ORG', 'B-LOC', 'I-LOC', 'B-PER', 'B-DAT', 'I-PER', 'B-TIM', 'I-DAT', 'I-TIM', 'B-MON', 'I-MON', 'B-PCT', 'I-PCT']\n"
     ]
    }
   ]
  },
  {
   "cell_type": "code",
   "execution_count": null,
   "metadata": {
    "colab": {
     "base_uri": "https://localhost:8080/"
    },
    "id": "jXlx35VZr4wo",
    "outputId": "7598f473-44b6-427b-e6a3-bf874dadc1aa",
    "pycharm": {
     "name": "#%%\n"
    }
   },
   "outputs": [
    {
     "output_type": "stream",
     "name": "stdout",
     "text": [
      "تظاهرات فلسطینیان در اعتراض به انتقال سفارت <B-ORG> آمریکا <I-ORG> به قدس <B-LOC> اشغالی <I-LOC>\n"
     ]
    }
   ],
   "source": [
    "print(corpus.train[0].to_tagged_string('ner'))"
   ]
  },
  {
   "cell_type": "code",
   "source": [],
   "metadata": {
    "id": "T8gLE_lypp_q",
    "pycharm": {
     "name": "#%%\n"
    }
   },
   "execution_count": null,
   "outputs": []
  }
 ],
 "metadata": {
  "colab": {
   "collapsed_sections": [
    "NUvmmMLdx9rg"
   ],
   "name": "flair-prepare-data-NER.ipynb",
   "provenance": []
  },
  "kernelspec": {
   "display_name": "Python 3",
   "name": "python3"
  },
  "language_info": {
   "name": "python"
  }
 },
 "nbformat": 4,
 "nbformat_minor": 0
}